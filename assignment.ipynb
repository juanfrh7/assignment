{
 "cells": [
  {
   "cell_type": "markdown",
   "metadata": {},
   "source": [
    "# Problema para selección de candidatos QM 2023\n",
    "\n",
    "**Contexto**\n",
    "\n",
    "Un determinado puerto marítimo tiene 3 zonas de descarga C1, C2 y C3; 2 zonas de carga S1, S2; 2 depósitos para almacenaje D1, D2 y 3 terminales T1, T2 y T3. Cada instante de tiempo se reciben y solicitan contenedores vacíos, que se redistribuyen para satisfacer la oferta y la demanda de comercio ultramarino."
   ]
  },
  {
   "cell_type": "markdown",
   "metadata": {},
   "source": [
    "## Imports"
   ]
  },
  {
   "cell_type": "code",
   "execution_count": 117,
   "metadata": {},
   "outputs": [],
   "source": [
    "import pandas as pd\n",
    "import numpy as np\n",
    "import matplotlib.pyplot as plt\n",
    "import os\n",
    "\n",
    "from dwave.system import LeapHybridCQMSampler\n",
    "from dimod import QuadraticModel, ConstrainedQuadraticModel, Binary, Integer\n",
    "\n",
    "# Replace with your DWave token\n",
    "os.environ['DWAVE_API_TOKEN'] = 'DEV-02d687c5521a014df6c14e8a3ae5694cb67d5a8f'"
   ]
  },
  {
   "cell_type": "markdown",
   "metadata": {},
   "source": [
    "## Parámetros"
   ]
  },
  {
   "cell_type": "code",
   "execution_count": 339,
   "metadata": {},
   "outputs": [],
   "source": [
    "#zonas\n",
    "zonas_de_descarga = ['C1', 'C2', 'C3']\n",
    "zonas_de_carga = ['S1', 'S2']\n",
    "zonas_de_almacenaje = ['D1', 'D2']\n",
    "terminales = ['T1', 'T2', 'T3']\n",
    "\n",
    "periods = [0, 1]   #calculamos el problema para dos periodos\n",
    "max_cap = 20   #capacidades máximas de almacenaje tanto en terminales como en depósitos\n",
    "\n",
    "#costes de almacenaje por contenedor\n",
    "cost_terminales = [20, 30, 25]   #coste de la terminal 1,2,3\n",
    "cost_almacenes = [22, 28]   #coste de almacenes\n",
    "\n",
    "# Matrices de coste de transporte\n",
    "CT = [[14,15,12], [15,17,12], [20,19,17]]   #descarga-terminal\n",
    "CD = [[12,10], [19,12], [16,18]]   #descarga-depósito\n",
    "TS = [[14,15], [18,17], [12,20]]   #terminal-carga\n",
    "DS = [[11,17], [12,14]]   #depósito-carga\n",
    "TT = [[0,15,18], [15,0,12], [17,16,0]]   #terminal-terminal\n",
    "DD = [[0,18], [16,0]]   #depósito-depósito\n",
    "TD = [[16,15], [14,17], [13,16]]   #terminal-depósito\n",
    "DT = [[18,16,17], [14,17,18]]   #depósito-terminal"
   ]
  },
  {
   "cell_type": "markdown",
   "metadata": {},
   "source": [
    "## Variables\n",
    "\n",
    "Vamos a definir dos tipos de variables:\n",
    "1. Aquellas que representan la cantidad de contenedores vacíos que se envían de una zona a otra. Estas variables van a tener la siguiente estructura: 'supply_x_y_z' que significa que en el tiempo z se han enviado contenedores de x a y.\n",
    "2. El número de contenedores vacíos que hay en terminales y almacenes. Estas variables tienen la siguiente estructura: 'contains_x_z' que significa que la zona x tiene cierto numero de contenedores en el tiempo z.\n",
    "\n",
    "Por lo tanto, las variables deben ser integers."
   ]
  },
  {
   "cell_type": "code",
   "execution_count": 340,
   "metadata": {},
   "outputs": [],
   "source": [
    "# container supplied by descarga c to terminal t at time i\n",
    "ct = {(x, y, z): Integer('supply_{}_{}_{}'.format(x, y, z)) for x in zonas_de_descarga for y in terminales for z in periods}\n",
    "\n",
    "# container supplied by descarga c to almacen d at time i\n",
    "cd = {(x, y, z): Integer('supply_{}_{}_{}'.format(x, y, z)) for x in zonas_de_descarga for y in zonas_de_almacenaje for z in periods}\n",
    "\n",
    "# container supplied by terminal t to carga s at time i\n",
    "ts = {(x, y, z): Integer('supply_{}_{}_{}'.format(x, y, z)) for x in terminales for y in zonas_de_carga for z in periods}\n",
    "\n",
    "# container supplied by almacen d to carga s at time i\n",
    "ds = {(x, y, z): Integer('supply_{}_{}_{}'.format(x, y, z)) for x in zonas_de_almacenaje for y in zonas_de_carga for z in periods}\n",
    "\n",
    "# container supplied by terminal t to terminal t at time i\n",
    "tt = {(x, y, z): Integer('supply_{}_{}_{}'.format(x, y, z)) for x in terminales for y in terminales for z in periods if x != y}\n",
    "\n",
    "# container supplied by almacen d to almacen d at time i\n",
    "dd = {(x, y, z): Integer('supply_{}_{}_{}'.format(x, y, z)) for x in zonas_de_almacenaje for y in zonas_de_almacenaje for z in periods if x != y}\n",
    "\n",
    "# container supplied by terminal t to almacen d at time i\n",
    "td = {(x, y, z): Integer('supply_{}_{}_{}'.format(x, y, z)) for x in terminales for y in zonas_de_almacenaje for z in periods}\n",
    "\n",
    "# container supplied by almacen d to terminal t at time i\n",
    "dt = {(x, y, z): Integer('supply_{}_{}_{}'.format(x, y, z)) for x in zonas_de_almacenaje for y in terminales for z in periods}\n",
    "\n",
    "# container at terminal t at time i\n",
    "T = {(x, z): Integer('contains_{}_{}'.format(x, z)) for x in terminales for z in periods}\n",
    "\n",
    "# container at almacen d at time i\n",
    "D = {(x, z): Integer('contains_{}_{}'.format(x, z)) for x in zonas_de_almacenaje for z in periods}"
   ]
  },
  {
   "cell_type": "markdown",
   "metadata": {},
   "source": [
    "## Función de coste"
   ]
  },
  {
   "cell_type": "markdown",
   "metadata": {},
   "source": [
    "Los costes totales incluyen todos los costes de transporte (entre terminales, almacenes, zonas de carga y descarga) más los costes de almacenamiento (en los alamacenes y en las terminales). Para representar este problema, he decidido utilizar el ConstrainedQuadraticModel de DWave."
   ]
  },
  {
   "cell_type": "code",
   "execution_count": 341,
   "metadata": {},
   "outputs": [],
   "source": [
    "model = ConstrainedQuadraticModel()"
   ]
  },
  {
   "cell_type": "code",
   "execution_count": 342,
   "metadata": {},
   "outputs": [],
   "source": [
    "operating_cost = QuadraticModel()\n",
    "\n",
    "for i in periods:\n",
    "    for c in range(len(zonas_de_descarga)):\n",
    "        \n",
    "        #coste de transporte de descarga a terminal\n",
    "        for t in range(len(terminales)):\n",
    "            operating_cost.update(CT[c][t] * ct[zonas_de_descarga[c],terminales[t],i])\n",
    "\n",
    "        #coste de transporte de descarga a almacen\n",
    "        for d in range(len(zonas_de_almacenaje)):\n",
    "            operating_cost.update(CD[c][d] * cd[zonas_de_descarga[c],zonas_de_almacenaje[d],i])\n",
    "\n",
    "    for t in range(len(terminales)):\n",
    "\n",
    "        #coste de almacenamiento en terminal\n",
    "        operating_cost.update(cost_terminales[t] * T[terminales[t], i])\n",
    "\n",
    "        for s in range(len(zonas_de_carga)):\n",
    "\n",
    "            #coste de transporte de terminal a carga\n",
    "            operating_cost.update(TS[t][s] * ts[terminales[t],zonas_de_carga[s],i])\n",
    "\n",
    "        for t1 in range(len(terminales)):\n",
    "            \n",
    "            if t1 == t:\n",
    "                continue\n",
    "            #coste de transporte de terminal a terminal\n",
    "            operating_cost.update(TT[t][t1] * tt[terminales[t],terminales[t1],i])\n",
    "            operating_cost.update(TT[t1][t] * tt[terminales[t1],terminales[t],i])\n",
    "\n",
    "        for d in range(len(zonas_de_almacenaje)):\n",
    "\n",
    "            #coste de transporte de terminal a almacen\n",
    "            operating_cost.update(TD[t][d] * td[terminales[t],zonas_de_almacenaje[d],i])\n",
    "\n",
    "    for d in range(len(zonas_de_almacenaje)):\n",
    "\n",
    "        #coste de almacenamiento de almacen\n",
    "        operating_cost.update(cost_almacenes[d] * D[zonas_de_almacenaje[d], i])\n",
    "\n",
    "        for s in range(len(zonas_de_carga)):\n",
    "\n",
    "            #coste de transporte de almacen a carga\n",
    "            operating_cost.update(DS[d][s] * ds[zonas_de_almacenaje[d],zonas_de_carga[s],i])\n",
    "\n",
    "        for t in range(len(terminales)):\n",
    "\n",
    "            #coste de transporte de almacen a terminal\n",
    "            operating_cost.update(DT[d][t] * dt[zonas_de_almacenaje[d],terminales[t],i])\n",
    "\n",
    "        for d1 in range(len(zonas_de_almacenaje)):\n",
    "            if d1 == d:\n",
    "                continue\n",
    "            #coste de transporte de almacen a almacen\n",
    "            operating_cost.update(DD[d][d1] * dd[zonas_de_almacenaje[d],zonas_de_almacenaje[d1],i])\n",
    "            operating_cost.update(DD[d1][d] * dd[zonas_de_almacenaje[d1],zonas_de_almacenaje[d],i])"
   ]
  },
  {
   "cell_type": "code",
   "execution_count": 343,
   "metadata": {},
   "outputs": [],
   "source": [
    "model.set_objective(operating_cost)"
   ]
  },
  {
   "cell_type": "markdown",
   "metadata": {},
   "source": [
    "## Restricciones"
   ]
  },
  {
   "cell_type": "markdown",
   "metadata": {},
   "source": [
    "Las capacidades máximas de almacenaje tanto en terminales como en depósitos son de 20 contenedores"
   ]
  },
  {
   "cell_type": "code",
   "execution_count": 344,
   "metadata": {},
   "outputs": [],
   "source": [
    "for i in periods:\n",
    "    for zona in (zonas_de_almacenaje):\n",
    "        model.add_constraint(D[zona, i] >= 0)\n",
    "        model.add_constraint(D[zona, i] <= max_cap)\n",
    "\n",
    "    for zona in (terminales):\n",
    "        model.add_constraint(T[zona, i] >= 0)\n",
    "        model.add_constraint(T[zona, i] <= max_cap)"
   ]
  },
  {
   "cell_type": "markdown",
   "metadata": {},
   "source": [
    "En un cierto instante de tiempo, cada depósito y cada terminal, excepto la T2, tienen un contenedor vacío en stock."
   ]
  },
  {
   "cell_type": "code",
   "execution_count": 345,
   "metadata": {},
   "outputs": [],
   "source": [
    "for zona in (zonas_de_almacenaje):\n",
    "    model.add_constraint(D[zona, 0] == 1)\n",
    "\n",
    "for zona in (terminales):\n",
    "    if zona == 'T2':\n",
    "        model.add_constraint(T[zona, 0] == 0)\n",
    "    else:\n",
    "        model.add_constraint(T[zona, 0] == 1)"
   ]
  },
  {
   "cell_type": "markdown",
   "metadata": {},
   "source": [
    "En ese mismo instante, cada zona de carga y la terminal T2 reclaman cada una un contenedor vacío para importación ultramarítima, así como cada zona de descarga provee de un contenedor vacío proveniente de comercio de ultra mar."
   ]
  },
  {
   "cell_type": "code",
   "execution_count": 346,
   "metadata": {},
   "outputs": [
    {
     "data": {
      "text/plain": [
       "'zona de carga S2 reclama un contenedor'"
      ]
     },
     "execution_count": 346,
     "metadata": {},
     "output_type": "execute_result"
    }
   ],
   "source": [
    "#cada zona de carga reclama un contenedor vacio\n",
    "tsds = {**ts, **ds}\n",
    "s1 = [key for key, value in tsds.items() if key[2] == 1 and key[1] == 'S1']\n",
    "s2 = [key for key, value in tsds.items() if key[2] == 1 and key[1] == 'S2']\n",
    "\n",
    "sum = QuadraticModel()\n",
    "for i in s1:\n",
    "    sum += tsds[i]\n",
    "model.add_constraint(sum == 1, label = 'zona de carga S1 reclama un contenedor')\n",
    "\n",
    "sum = QuadraticModel()\n",
    "for i in s2:\n",
    "    sum += tsds[i]\n",
    "model.add_constraint(sum == 1, label = 'zona de carga S2 reclama un contenedor')"
   ]
  },
  {
   "cell_type": "code",
   "execution_count": 347,
   "metadata": {},
   "outputs": [
    {
     "data": {
      "text/plain": [
       "'T2 reclama un contenedor'"
      ]
     },
     "execution_count": 347,
     "metadata": {},
     "output_type": "execute_result"
    }
   ],
   "source": [
    "#la T2 reclama un contenedor vacio\n",
    "ctttdt = {**ct, **tt, **dt}\n",
    "keys_with_zero = [key for key, value in ctttdt.items() if key[2] == 1 and key[1] == 'T2']\n",
    "sum = QuadraticModel()\n",
    "for i in keys_with_zero:\n",
    "    sum += ctttdt[i]\n",
    "\n",
    "model.add_constraint(sum == 1, label = 'T2 reclama un contenedor')"
   ]
  },
  {
   "cell_type": "markdown",
   "metadata": {},
   "source": [
    "Balance de contenedores en las terminales\n",
    "\n",
    "$T^i_{t} = T^{i-1}_{t} +\\sum dt ^i +\\sum ct ^i+ \\sum t{t'} ^i  -\\sum t't^i - \\sum td ^i - \\sum ts ^i $"
   ]
  },
  {
   "cell_type": "code",
   "execution_count": 348,
   "metadata": {},
   "outputs": [],
   "source": [
    "for t in (terminales):\n",
    "    sum = QuadraticModel()\n",
    "    for i in range(1, len(periods)):\n",
    "        sum += T[t, i] - T[t, i-1]\n",
    "        for s in (zonas_de_carga):\n",
    "            sum += ts[t, s, i]\n",
    "\n",
    "        for c in (zonas_de_descarga):\n",
    "            sum -= ct[c, t, i]\n",
    "\n",
    "        for t1 in (terminales):\n",
    "\n",
    "            if t == t1:\n",
    "                continue\n",
    "            sum += tt[t, t1, i]\n",
    "            sum -= tt[t1, t, i]\n",
    "\n",
    "        for d in (zonas_de_almacenaje):\n",
    "            sum += td[t, d, i]\n",
    "            sum -= dt[d, t, i]\n",
    "\n",
    "\n",
    "    model.add_constraint(sum == 0, label = f'balance en terminal {t}')"
   ]
  },
  {
   "cell_type": "markdown",
   "metadata": {},
   "source": [
    "Balance de contenedores en los almacenes\n",
    "\n",
    "$D^i_{d} = D^{i-1}_{d} +\\sum td ^i +\\sum cd ^i+ \\sum d{d'} ^i  -\\sum d'd^i - \\sum dt ^i - \\sum ds ^i $"
   ]
  },
  {
   "cell_type": "code",
   "execution_count": 349,
   "metadata": {},
   "outputs": [],
   "source": [
    "for d in (zonas_de_almacenaje):\n",
    "    sum = QuadraticModel()\n",
    "    for i in range(1, len(periods)):\n",
    "        sum += D[d, i] - D[d, i-1]\n",
    "        for s in (zonas_de_carga):\n",
    "            sum += ds[d, s, i]\n",
    "\n",
    "        for c in (zonas_de_descarga):\n",
    "            sum -= cd[c, d, i]\n",
    "\n",
    "        for t in (terminales):\n",
    "            sum += dt[d, t, i]\n",
    "            sum -= td[t, d, i]\n",
    "\n",
    "        for d1 in (zonas_de_almacenaje):\n",
    "            if d == d1:\n",
    "                continue\n",
    "            sum -= dd[d, d1, i]\n",
    "            sum += dd[d1, d, i]\n",
    "\n",
    "    model.add_constraint(sum == 0, label = f'balance en almacenes {d}')"
   ]
  },
  {
   "cell_type": "markdown",
   "metadata": {},
   "source": [
    "## Resolver el modelo"
   ]
  },
  {
   "cell_type": "code",
   "execution_count": 350,
   "metadata": {},
   "outputs": [],
   "source": [
    "sampler = LeapHybridCQMSampler()"
   ]
  },
  {
   "cell_type": "code",
   "execution_count": 351,
   "metadata": {},
   "outputs": [
    {
     "name": "stdout",
     "output_type": "stream",
     "text": [
      "Minimum energy 183.0\n"
     ]
    },
    {
     "data": {
      "image/png": "[encoded data removed]",
      "text/plain": [
       "<Figure size 640x480 with 1 Axes>"
      ]
     },
     "metadata": {},
     "output_type": "display_data"
    }
   ],
   "source": [
    "raw_sampleset = sampler.sample_cqm(model)\n",
    "feasible_sampleset = raw_sampleset.filter(lambda d: d.is_feasible)\n",
    "feasible_sampleset_csv = feasible_sampleset.to_pandas_dataframe(True)\n",
    "feasible_sampleset_csv.energy.hist()\n",
    "print(f'Minimum energy {feasible_sampleset_csv.energy.min()}')"
   ]
  },
  {
   "cell_type": "code",
   "execution_count": 352,
   "metadata": {},
   "outputs": [],
   "source": [
    "# Calculate the number of feasible solutions in the feasible_sampleset\n",
    "num_feasible = len(feasible_sampleset)\n",
    "\n",
    "# Check if there are feasible solutions\n",
    "if num_feasible > 0:\n",
    "    # If there are feasible solutions, truncate the feasible_sampleset to the best 10 feasible solutions\n",
    "    best_samples = feasible_sampleset.truncate(min(10, num_feasible))\n",
    "else:\n",
    "    # If there are no feasible solutions, truncate the original samples set to the best 10 samples\n",
    "    best_samples = feasible_sampleset.truncate(10)\n",
    "\n",
    "# Get the sample associated with the first entry in the best_samples set\n",
    "best_sample = best_samples.first.sample"
   ]
  },
  {
   "cell_type": "code",
   "execution_count": 353,
   "metadata": {},
   "outputs": [
    {
     "data": {
      "text/plain": [
       "{'contains_D1_0': 1.0,\n",
       " 'contains_D1_1': 1.0,\n",
       " 'contains_D2_0': 1.0,\n",
       " 'contains_T1_0': 1.0,\n",
       " 'contains_T1_1': 1.0,\n",
       " 'contains_T3_0': 1.0,\n",
       " 'supply_D2_T2_1': 1.0,\n",
       " 'supply_T2_S2_1': 1.0,\n",
       " 'supply_T3_S1_1': 1.0}"
      ]
     },
     "execution_count": 353,
     "metadata": {},
     "output_type": "execute_result"
    }
   ],
   "source": [
    "best_sample\n",
    "filtered_dict = {key: value for key, value in best_sample.items() if value >= 1}\n",
    "filtered_dict"
   ]
  },
  {
   "cell_type": "markdown",
   "metadata": {},
   "source": [
    "La D2 envia a T2, la T3 envia a S1, la T2 envia a la S2."
   ]
  }
 ],
 "metadata": {
  "kernelspec": {
   "display_name": "Python 3",
   "language": "python",
   "name": "python3"
  },
  "language_info": {
   "codemirror_mode": {
    "name": "ipython",
    "version": 3
   },
   "file_extension": ".py",
   "mimetype": "text/x-python",
   "name": "python",
   "nbconvert_exporter": "python",
   "pygments_lexer": "ipython3",
   "version": "3.11.2"
  }
 },
 "nbformat": 4,
 "nbformat_minor": 2
}
